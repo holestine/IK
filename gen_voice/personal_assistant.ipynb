{
 "cells": [
  {
   "cell_type": "markdown",
   "metadata": {},
   "source": [
    "# Prepare the Environment\n",
    "\n",
    "This will create the virtual environment"
   ]
  },
  {
   "cell_type": "code",
   "execution_count": null,
   "metadata": {},
   "outputs": [],
   "source": [
    "!conda create -c pytorch -c nvidia -n gen_voice pytorch torchvision torchaudio pytorch-cuda=11.8 -y\n",
    "!conda activate gen_voice\n",
    "!conda install conda-forge::ffmpeg\n",
    "!pip install -r requirements.txt"
   ]
  },
  {
   "cell_type": "markdown",
   "metadata": {},
   "source": [
    "If ffmpeg doesn't work correctly on Linux the following command may help"
   ]
  },
  {
   "cell_type": "code",
   "execution_count": null,
   "metadata": {},
   "outputs": [],
   "source": [
    "!apt install libasound2-dev portaudio19-dev libportaudio2 libportaudiocpp0 ffmpeg"
   ]
  },
  {
   "cell_type": "markdown",
   "metadata": {},
   "source": [
    "# Initialize the Coding Environment"
   ]
  },
  {
   "cell_type": "code",
   "execution_count": 1,
   "metadata": {},
   "outputs": [
    {
     "name": "stderr",
     "output_type": "stream",
     "text": [
      "c:\\Users\\holes\\.conda\\envs\\ik\\Lib\\site-packages\\tqdm\\auto.py:21: TqdmWarning: IProgress not found. Please update jupyter and ipywidgets. See https://ipywidgets.readthedocs.io/en/stable/user_install.html\n",
      "  from .autonotebook import tqdm as notebook_tqdm\n"
     ]
    }
   ],
   "source": [
    "from audio import Audio\n",
    "from chatbot import ChatBot\n",
    "import gradio as gr\n",
    "\n",
    "%load_ext gradio"
   ]
  },
  {
   "cell_type": "markdown",
   "metadata": {},
   "source": [
    "# Initialize the ChatBot"
   ]
  },
  {
   "cell_type": "markdown",
   "metadata": {},
   "source": [
    "First check for available microphones"
   ]
  },
  {
   "cell_type": "code",
   "execution_count": 2,
   "metadata": {},
   "outputs": [
    {
     "data": {
      "text/plain": [
       "['Microsoft Sound Mapper - Input',\n",
       " 'Microphone (2- G935 Gaming Head',\n",
       " 'Microphone (HD Pro Webcam C920)',\n",
       " 'Microsoft Sound Mapper - Output',\n",
       " 'Speakers (Realtek(R) Audio)',\n",
       " 'Speakers (2- G935 Gaming Headse',\n",
       " 'ASUS VE278 (NVIDIA High Definit',\n",
       " 'ASUS VE278 (NVIDIA High Definit',\n",
       " 'VS278 (NVIDIA High Definition A',\n",
       " 'Realtek Digital Output (Realtek',\n",
       " 'Primary Sound Capture Driver',\n",
       " 'Microphone (2- G935 Gaming Headset)',\n",
       " 'Microphone (HD Pro Webcam C920)',\n",
       " 'Primary Sound Driver',\n",
       " 'Speakers (Realtek(R) Audio)',\n",
       " 'Speakers (2- G935 Gaming Headset)',\n",
       " 'ASUS VE278 (NVIDIA High Definition Audio)',\n",
       " 'ASUS VE278 (NVIDIA High Definition Audio)',\n",
       " 'VS278 (NVIDIA High Definition Audio)',\n",
       " 'Realtek Digital Output (Realtek(R) Audio)',\n",
       " 'Speakers (2- G935 Gaming Headset)',\n",
       " 'Speakers (Realtek(R) Audio)',\n",
       " 'ASUS VE278 (NVIDIA High Definition Audio)',\n",
       " 'ASUS VE278 (NVIDIA High Definition Audio)',\n",
       " 'VS278 (NVIDIA High Definition Audio)',\n",
       " 'Realtek Digital Output (Realtek(R) Audio)',\n",
       " 'Microphone (2- G935 Gaming Headset)',\n",
       " 'Microphone (HD Pro Webcam C920)',\n",
       " 'Headphones (Realtek HD Audio 2nd output)',\n",
       " 'Microphone (Realtek HD Audio Mic input)',\n",
       " 'Line In (Realtek HD Audio Line input)',\n",
       " 'SPDIF Out (Realtek HDA SPDIF Out)',\n",
       " 'Stereo Mix (Realtek HD Audio Stereo input)',\n",
       " 'Speakers (Realtek HD Audio output)',\n",
       " 'Output (NVIDIA High Definition Audio)',\n",
       " 'Output ()',\n",
       " 'Output ()',\n",
       " 'Microphone (G935 Gaming Headset)',\n",
       " 'Speakers (G935 Gaming Headset)',\n",
       " 'Microphone (HD Pro Webcam C920)']"
      ]
     },
     "execution_count": 2,
     "metadata": {},
     "output_type": "execute_result"
    }
   ],
   "source": [
    "# List the available microphones\n",
    "import speech_recognition as sr\n",
    "sr.Microphone.list_microphone_names()"
   ]
  },
  {
   "cell_type": "markdown",
   "metadata": {},
   "source": [
    "Initialize the chatbot specifying if the index of the mic and whether or not speakers will be used. For best results a headset with a mic is recommended."
   ]
  },
  {
   "cell_type": "code",
   "execution_count": 3,
   "metadata": {},
   "outputs": [],
   "source": [
    "chatbot = ChatBot(mic_id=2, enable_speakers=True)"
   ]
  },
  {
   "cell_type": "markdown",
   "metadata": {},
   "source": [
    "## Full Audio\n",
    "If you're system has speakers and a microphone you can run in full audio using the communication loop below"
   ]
  },
  {
   "cell_type": "code",
   "execution_count": 8,
   "metadata": {},
   "outputs": [
    {
     "name": "stdout",
     "output_type": "stream",
     "text": [
      "Prompt: goodbye \n",
      "\n"
     ]
    }
   ],
   "source": [
    "history = []\n",
    "while True:\n",
    "    guess = chatbot.recognize_speech_from_mic()\n",
    "    if guess[\"success\"]:\n",
    "        prompt = guess['transcription']\n",
    "        print(f'Prompt: {prompt} \\n')\n",
    "\n",
    "        if 'goodbye' in prompt:\n",
    "            chatbot.communicate('See you next time')\n",
    "            break\n",
    "        \n",
    "        response = chatbot.respond(prompt, history)\n",
    "        history.append([guess['transcription'], response])\n",
    "        print(f'{response}\\n\\n')\n",
    "    else:\n",
    "        chatbot.communicate(f\"Error: {guess[\"error\"]}\")"
   ]
  },
  {
   "cell_type": "markdown",
   "metadata": {},
   "source": [
    "## Speakers Optional (no mic)\n",
    "The following gradio UI will allow you to communicate with the LLM."
   ]
  },
  {
   "cell_type": "code",
   "execution_count": 9,
   "metadata": {},
   "outputs": [
    {
     "name": "stdout",
     "output_type": "stream",
     "text": [
      "Running on local URL:  http://127.0.0.1:7860\n",
      "\n",
      "To create a public link, set `share=True` in `launch()`.\n"
     ]
    },
    {
     "data": {
      "text/html": [
       "<div><iframe src=\"http://127.0.0.1:7860/\" width=\"100%\" height=\"500\" allow=\"autoplay; camera; microphone; clipboard-read; clipboard-write;\" frameborder=\"0\" allowfullscreen></iframe></div>"
      ],
      "text/plain": [
       "<IPython.core.display.HTML object>"
      ]
     },
     "metadata": {},
     "output_type": "display_data"
    }
   ],
   "source": [
    "%%blocks\n",
    "\n",
    "import gradio as gr\n",
    "\n",
    "with gr.Blocks() as demo:\n",
    "    gr.ChatInterface(chatbot.respond)"
   ]
  }
 ],
 "metadata": {
  "kernelspec": {
   "display_name": "ik",
   "language": "python",
   "name": "python3"
  },
  "language_info": {
   "codemirror_mode": {
    "name": "ipython",
    "version": 3
   },
   "file_extension": ".py",
   "mimetype": "text/x-python",
   "name": "python",
   "nbconvert_exporter": "python",
   "pygments_lexer": "ipython3",
   "version": "3.12.5"
  }
 },
 "nbformat": 4,
 "nbformat_minor": 2
}
