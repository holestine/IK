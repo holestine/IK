{
 "cells": [
  {
   "cell_type": "markdown",
   "metadata": {},
   "source": [
    "# Prepare Development Environment\n",
    "\n",
    "This will create the virtual environment"
   ]
  },
  {
   "cell_type": "code",
   "execution_count": null,
   "metadata": {},
   "outputs": [],
   "source": [
    "!conda create -c pytorch -c nvidia -n gen_voice pytorch torchvision torchaudio pytorch-cuda=11.8 -y\n",
    "!conda activate gen_voice\n",
    "!conda install conda-forge::ffmpeg\n",
    "!pip install -r requirements.txt"
   ]
  },
  {
   "cell_type": "markdown",
   "metadata": {},
   "source": [
    "If ffmpeg doesn't work correctly on Linux the following command may help"
   ]
  },
  {
   "cell_type": "code",
   "execution_count": null,
   "metadata": {},
   "outputs": [],
   "source": [
    "!apt install libasound2-dev portaudio19-dev libportaudio2 libportaudiocpp0 ffmpeg"
   ]
  },
  {
   "cell_type": "markdown",
   "metadata": {},
   "source": [
    "# Import Libraries"
   ]
  },
  {
   "cell_type": "code",
   "execution_count": 1,
   "metadata": {},
   "outputs": [
    {
     "name": "stderr",
     "output_type": "stream",
     "text": [
      "c:\\Users\\holes\\.conda\\envs\\ik\\Lib\\site-packages\\tqdm\\auto.py:21: TqdmWarning: IProgress not found. Please update jupyter and ipywidgets. See https://ipywidgets.readthedocs.io/en/stable/user_install.html\n",
      "  from .autonotebook import tqdm as notebook_tqdm\n"
     ]
    }
   ],
   "source": [
    "from chatbot import ChatBot\n",
    "import speech_recognition as sr\n",
    "import gradio as gr\n",
    "\n",
    "%load_ext gradio"
   ]
  },
  {
   "cell_type": "markdown",
   "metadata": {},
   "source": [
    "# Initialize the ChatBot"
   ]
  },
  {
   "cell_type": "markdown",
   "metadata": {},
   "source": [
    "First check for available microphones"
   ]
  },
  {
   "cell_type": "code",
   "execution_count": null,
   "metadata": {},
   "outputs": [],
   "source": [
    "# List the available microphones\n",
    "sr.Microphone.list_microphone_names()"
   ]
  },
  {
   "cell_type": "markdown",
   "metadata": {},
   "source": [
    "## Full Audio\n",
    "If you're system has speakers and a microphone you can run in full audio using the communication loop below"
   ]
  },
  {
   "cell_type": "code",
   "execution_count": 5,
   "metadata": {},
   "outputs": [
    {
     "name": "stdout",
     "output_type": "stream",
     "text": [
      "Prompt: can I get a small pepperoni pizza \n",
      "\n",
      "Sure! A small pepperoni pizza is $7.00. Would you like to add any extra toppings to that?\n",
      "\n",
      "\n",
      "Prompt: no \n",
      "\n",
      "Got it! Just the small pepperoni pizza. Would you like anything else with your order, maybe some drinks or a side of fries?\n",
      "\n",
      "\n",
      "Prompt: goodbye \n",
      "\n"
     ]
    }
   ],
   "source": [
    "# Initialize the chatbot specifying the index of the mic if one exists and whether or not speakers will be used.\n",
    "# For best results a headset with a mic is recommended.\n",
    "chatbot = ChatBot(mic_id=2, enable_speakers=True)\n",
    "\n",
    "history = []\n",
    "while True:\n",
    "    guess = chatbot.recognize_speech_from_mic()\n",
    "    if guess[\"success\"]:\n",
    "        prompt = guess['transcription']\n",
    "        print(f'Prompt: {prompt} \\n')\n",
    "\n",
    "        if 'goodbye' in prompt:\n",
    "            chatbot.communicate('See you next time')\n",
    "            break\n",
    "        \n",
    "        response = chatbot.respond(prompt, history)\n",
    "        history.append([guess['transcription'], response])\n",
    "        print(f'{response}\\n\\n')\n",
    "    else:\n",
    "        chatbot.communicate(f\"Error: {guess[\"error\"]}\")"
   ]
  },
  {
   "cell_type": "markdown",
   "metadata": {},
   "source": [
    "## Speakers Optional (no mic)\n",
    "The following gradio UI will allow you to communicate with the LLM."
   ]
  },
  {
   "cell_type": "code",
   "execution_count": 3,
   "metadata": {},
   "outputs": [
    {
     "name": "stdout",
     "output_type": "stream",
     "text": [
      "Running on local URL:  http://127.0.0.1:7860\n",
      "\n",
      "To create a public link, set `share=True` in `launch()`.\n"
     ]
    },
    {
     "data": {
      "text/html": [
       "<div><iframe src=\"http://127.0.0.1:7860/\" width=\"100%\" height=\"500\" allow=\"autoplay; camera; microphone; clipboard-read; clipboard-write;\" frameborder=\"0\" allowfullscreen></iframe></div>"
      ],
      "text/plain": [
       "<IPython.core.display.HTML object>"
      ]
     },
     "metadata": {},
     "output_type": "display_data"
    }
   ],
   "source": [
    "%%blocks\n",
    "\n",
    "#import gradio as gr\n",
    "# Create a gradio chat interface wire it to our chatbot\n",
    "chatbot = ChatBot(enable_speakers=True)\n",
    "with gr.Blocks() as demo:\n",
    "    gr.ChatInterface(chatbot.respond)"
   ]
  }
 ],
 "metadata": {
  "kernelspec": {
   "display_name": "ik",
   "language": "python",
   "name": "python3"
  },
  "language_info": {
   "codemirror_mode": {
    "name": "ipython",
    "version": 3
   },
   "file_extension": ".py",
   "mimetype": "text/x-python",
   "name": "python",
   "nbconvert_exporter": "python",
   "pygments_lexer": "ipython3",
   "version": "3.12.5"
  }
 },
 "nbformat": 4,
 "nbformat_minor": 2
}
