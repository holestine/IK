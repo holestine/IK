{
 "cells": [
  {
   "cell_type": "markdown",
   "metadata": {},
   "source": [
    "## Prepare Environment\n",
    "The following sets up the environment on Ubuntu. On Windows ffmpeg will need to be installed seperately to enable audio functions."
   ]
  },
  {
   "cell_type": "code",
   "execution_count": 1,
   "metadata": {},
   "outputs": [
    {
     "name": "stderr",
     "output_type": "stream",
     "text": [
      "'apt' is not recognized as an internal or external command,\n",
      "operable program or batch file.\n"
     ]
    },
    {
     "name": "stdout",
     "output_type": "stream",
     "text": [
      "Requirement already satisfied: openai in c:\\users\\holes\\.conda\\envs\\ik\\lib\\site-packages (from -r requirements.txt (line 1)) (1.44.0)\n",
      "Requirement already satisfied: SpeechRecognition in c:\\users\\holes\\.conda\\envs\\ik\\lib\\site-packages (from -r requirements.txt (line 2)) (3.10.4)\n",
      "Requirement already satisfied: librosa in c:\\users\\holes\\.conda\\envs\\ik\\lib\\site-packages (from -r requirements.txt (line 3)) (0.10.2.post1)\n",
      "Requirement already satisfied: soundfile in c:\\users\\holes\\.conda\\envs\\ik\\lib\\site-packages (from -r requirements.txt (line 4)) (0.12.1)\n",
      "Requirement already satisfied: gTTs in c:\\users\\holes\\.conda\\envs\\ik\\lib\\site-packages (from -r requirements.txt (line 5)) (2.5.3)\n",
      "Requirement already satisfied: ffmpeg in c:\\users\\holes\\.conda\\envs\\ik\\lib\\site-packages (from -r requirements.txt (line 6)) (1.4)\n",
      "Requirement already satisfied: pydub in c:\\users\\holes\\.conda\\envs\\ik\\lib\\site-packages (from -r requirements.txt (line 7)) (0.25.1)\n",
      "Requirement already satisfied: PyAudio in c:\\users\\holes\\.conda\\envs\\ik\\lib\\site-packages (from -r requirements.txt (line 8)) (0.2.14)\n",
      "Requirement already satisfied: anyio<5,>=3.5.0 in c:\\users\\holes\\.conda\\envs\\ik\\lib\\site-packages (from openai->-r requirements.txt (line 1)) (4.4.0)\n",
      "Requirement already satisfied: distro<2,>=1.7.0 in c:\\users\\holes\\.conda\\envs\\ik\\lib\\site-packages (from openai->-r requirements.txt (line 1)) (1.9.0)\n",
      "Requirement already satisfied: httpx<1,>=0.23.0 in c:\\users\\holes\\.conda\\envs\\ik\\lib\\site-packages (from openai->-r requirements.txt (line 1)) (0.27.2)\n",
      "Requirement already satisfied: jiter<1,>=0.4.0 in c:\\users\\holes\\.conda\\envs\\ik\\lib\\site-packages (from openai->-r requirements.txt (line 1)) (0.5.0)\n",
      "Requirement already satisfied: pydantic<3,>=1.9.0 in c:\\users\\holes\\.conda\\envs\\ik\\lib\\site-packages (from openai->-r requirements.txt (line 1)) (2.9.1)\n",
      "Requirement already satisfied: sniffio in c:\\users\\holes\\.conda\\envs\\ik\\lib\\site-packages (from openai->-r requirements.txt (line 1)) (1.3.1)\n",
      "Requirement already satisfied: tqdm>4 in c:\\users\\holes\\.conda\\envs\\ik\\lib\\site-packages (from openai->-r requirements.txt (line 1)) (4.66.5)\n",
      "Requirement already satisfied: typing-extensions<5,>=4.11 in c:\\users\\holes\\.conda\\envs\\ik\\lib\\site-packages (from openai->-r requirements.txt (line 1)) (4.11.0)\n",
      "Requirement already satisfied: requests>=2.26.0 in c:\\users\\holes\\.conda\\envs\\ik\\lib\\site-packages (from SpeechRecognition->-r requirements.txt (line 2)) (2.32.3)\n",
      "Requirement already satisfied: audioread>=2.1.9 in c:\\users\\holes\\.conda\\envs\\ik\\lib\\site-packages (from librosa->-r requirements.txt (line 3)) (3.0.1)\n",
      "Requirement already satisfied: numpy!=1.22.0,!=1.22.1,!=1.22.2,>=1.20.3 in c:\\users\\holes\\.conda\\envs\\ik\\lib\\site-packages (from librosa->-r requirements.txt (line 3)) (1.26.4)\n",
      "Requirement already satisfied: scipy>=1.2.0 in c:\\users\\holes\\.conda\\envs\\ik\\lib\\site-packages (from librosa->-r requirements.txt (line 3)) (1.14.1)\n",
      "Requirement already satisfied: scikit-learn>=0.20.0 in c:\\users\\holes\\.conda\\envs\\ik\\lib\\site-packages (from librosa->-r requirements.txt (line 3)) (1.5.1)\n",
      "Requirement already satisfied: joblib>=0.14 in c:\\users\\holes\\.conda\\envs\\ik\\lib\\site-packages (from librosa->-r requirements.txt (line 3)) (1.4.2)\n",
      "Requirement already satisfied: decorator>=4.3.0 in c:\\users\\holes\\.conda\\envs\\ik\\lib\\site-packages (from librosa->-r requirements.txt (line 3)) (5.1.1)\n",
      "Requirement already satisfied: numba>=0.51.0 in c:\\users\\holes\\.conda\\envs\\ik\\lib\\site-packages (from librosa->-r requirements.txt (line 3)) (0.60.0)\n",
      "Requirement already satisfied: pooch>=1.1 in c:\\users\\holes\\.conda\\envs\\ik\\lib\\site-packages (from librosa->-r requirements.txt (line 3)) (1.8.2)\n",
      "Requirement already satisfied: soxr>=0.3.2 in c:\\users\\holes\\.conda\\envs\\ik\\lib\\site-packages (from librosa->-r requirements.txt (line 3)) (0.5.0.post1)\n",
      "Requirement already satisfied: lazy-loader>=0.1 in c:\\users\\holes\\.conda\\envs\\ik\\lib\\site-packages (from librosa->-r requirements.txt (line 3)) (0.4)\n",
      "Requirement already satisfied: msgpack>=1.0 in c:\\users\\holes\\.conda\\envs\\ik\\lib\\site-packages (from librosa->-r requirements.txt (line 3)) (1.0.8)\n",
      "Requirement already satisfied: cffi>=1.0 in c:\\users\\holes\\.conda\\envs\\ik\\lib\\site-packages (from soundfile->-r requirements.txt (line 4)) (1.17.1)\n",
      "Requirement already satisfied: click<8.2,>=7.1 in c:\\users\\holes\\.conda\\envs\\ik\\lib\\site-packages (from gTTs->-r requirements.txt (line 5)) (8.1.7)\n",
      "Requirement already satisfied: idna>=2.8 in c:\\users\\holes\\.conda\\envs\\ik\\lib\\site-packages (from anyio<5,>=3.5.0->openai->-r requirements.txt (line 1)) (3.7)\n",
      "Requirement already satisfied: pycparser in c:\\users\\holes\\.conda\\envs\\ik\\lib\\site-packages (from cffi>=1.0->soundfile->-r requirements.txt (line 4)) (2.22)\n",
      "Requirement already satisfied: colorama in c:\\users\\holes\\.conda\\envs\\ik\\lib\\site-packages (from click<8.2,>=7.1->gTTs->-r requirements.txt (line 5)) (0.4.6)\n",
      "Requirement already satisfied: certifi in c:\\users\\holes\\.conda\\envs\\ik\\lib\\site-packages (from httpx<1,>=0.23.0->openai->-r requirements.txt (line 1)) (2024.8.30)\n",
      "Requirement already satisfied: httpcore==1.* in c:\\users\\holes\\.conda\\envs\\ik\\lib\\site-packages (from httpx<1,>=0.23.0->openai->-r requirements.txt (line 1)) (1.0.5)\n",
      "Requirement already satisfied: h11<0.15,>=0.13 in c:\\users\\holes\\.conda\\envs\\ik\\lib\\site-packages (from httpcore==1.*->httpx<1,>=0.23.0->openai->-r requirements.txt (line 1)) (0.14.0)\n",
      "Requirement already satisfied: packaging in c:\\users\\holes\\.conda\\envs\\ik\\lib\\site-packages (from lazy-loader>=0.1->librosa->-r requirements.txt (line 3)) (24.1)\n",
      "Requirement already satisfied: llvmlite<0.44,>=0.43.0dev0 in c:\\users\\holes\\.conda\\envs\\ik\\lib\\site-packages (from numba>=0.51.0->librosa->-r requirements.txt (line 3)) (0.43.0)\n",
      "Requirement already satisfied: platformdirs>=2.5.0 in c:\\users\\holes\\.conda\\envs\\ik\\lib\\site-packages (from pooch>=1.1->librosa->-r requirements.txt (line 3)) (4.3.2)\n",
      "Requirement already satisfied: annotated-types>=0.6.0 in c:\\users\\holes\\.conda\\envs\\ik\\lib\\site-packages (from pydantic<3,>=1.9.0->openai->-r requirements.txt (line 1)) (0.7.0)\n",
      "Requirement already satisfied: pydantic-core==2.23.3 in c:\\users\\holes\\.conda\\envs\\ik\\lib\\site-packages (from pydantic<3,>=1.9.0->openai->-r requirements.txt (line 1)) (2.23.3)\n",
      "Requirement already satisfied: charset-normalizer<4,>=2 in c:\\users\\holes\\.conda\\envs\\ik\\lib\\site-packages (from requests>=2.26.0->SpeechRecognition->-r requirements.txt (line 2)) (3.3.2)\n",
      "Requirement already satisfied: urllib3<3,>=1.21.1 in c:\\users\\holes\\.conda\\envs\\ik\\lib\\site-packages (from requests>=2.26.0->SpeechRecognition->-r requirements.txt (line 2)) (2.2.2)\n",
      "Requirement already satisfied: threadpoolctl>=3.1.0 in c:\\users\\holes\\.conda\\envs\\ik\\lib\\site-packages (from scikit-learn>=0.20.0->librosa->-r requirements.txt (line 3)) (3.5.0)\n"
     ]
    }
   ],
   "source": [
    "!apt install libasound2-dev portaudio19-dev libportaudio2 libportaudiocpp0 ffmpeg\n",
    "!pip install -r requirements.txt"
   ]
  },
  {
   "cell_type": "code",
   "execution_count": 2,
   "metadata": {},
   "outputs": [],
   "source": [
    "from audio import Audio\n",
    "from chatbot import ChatBot"
   ]
  },
  {
   "cell_type": "code",
   "execution_count": 3,
   "metadata": {},
   "outputs": [],
   "source": [
    "# Initialize class to handle audio\n",
    "audio = Audio()"
   ]
  },
  {
   "cell_type": "code",
   "execution_count": 4,
   "metadata": {},
   "outputs": [],
   "source": [
    "chatbot = ChatBot()"
   ]
  },
  {
   "cell_type": "code",
   "execution_count": 5,
   "metadata": {},
   "outputs": [
    {
     "data": {
      "text/plain": [
       "['Microsoft Sound Mapper - Input',\n",
       " 'Microphone (2- G935 Gaming Head',\n",
       " 'Microphone (HD Pro Webcam C920)',\n",
       " 'Microsoft Sound Mapper - Output',\n",
       " 'Speakers (Realtek(R) Audio)',\n",
       " 'Speakers (2- G935 Gaming Headse',\n",
       " 'ASUS VE278 (NVIDIA High Definit',\n",
       " 'ASUS VE278 (NVIDIA High Definit',\n",
       " 'VS278 (NVIDIA High Definition A',\n",
       " 'Realtek Digital Output (Realtek',\n",
       " 'Primary Sound Capture Driver',\n",
       " 'Microphone (2- G935 Gaming Headset)',\n",
       " 'Microphone (HD Pro Webcam C920)',\n",
       " 'Primary Sound Driver',\n",
       " 'Speakers (Realtek(R) Audio)',\n",
       " 'Speakers (2- G935 Gaming Headset)',\n",
       " 'ASUS VE278 (NVIDIA High Definition Audio)',\n",
       " 'ASUS VE278 (NVIDIA High Definition Audio)',\n",
       " 'VS278 (NVIDIA High Definition Audio)',\n",
       " 'Realtek Digital Output (Realtek(R) Audio)',\n",
       " 'Speakers (2- G935 Gaming Headset)',\n",
       " 'Speakers (Realtek(R) Audio)',\n",
       " 'ASUS VE278 (NVIDIA High Definition Audio)',\n",
       " 'ASUS VE278 (NVIDIA High Definition Audio)',\n",
       " 'VS278 (NVIDIA High Definition Audio)',\n",
       " 'Realtek Digital Output (Realtek(R) Audio)',\n",
       " 'Microphone (2- G935 Gaming Headset)',\n",
       " 'Microphone (HD Pro Webcam C920)',\n",
       " 'Headphones (Realtek HD Audio 2nd output)',\n",
       " 'Microphone (Realtek HD Audio Mic input)',\n",
       " 'Line In (Realtek HD Audio Line input)',\n",
       " 'SPDIF Out (Realtek HDA SPDIF Out)',\n",
       " 'Stereo Mix (Realtek HD Audio Stereo input)',\n",
       " 'Speakers (Realtek HD Audio output)',\n",
       " 'Output (NVIDIA High Definition Audio)',\n",
       " 'Output ()',\n",
       " 'Output ()',\n",
       " 'Microphone (G935 Gaming Headset)',\n",
       " 'Speakers (G935 Gaming Headset)',\n",
       " 'Microphone (HD Pro Webcam C920)']"
      ]
     },
     "execution_count": 5,
     "metadata": {},
     "output_type": "execute_result"
    }
   ],
   "source": [
    "import speech_recognition as sr\n",
    "sr.Microphone.list_microphone_names()"
   ]
  },
  {
   "cell_type": "code",
   "execution_count": 6,
   "metadata": {},
   "outputs": [],
   "source": [
    "# Initialize microphone object with appropriate device\n",
    "audio.initialize_microphone(2)"
   ]
  },
  {
   "cell_type": "code",
   "execution_count": 7,
   "metadata": {},
   "outputs": [
    {
     "name": "stdout",
     "output_type": "stream",
     "text": [
      "Prompt: can I get a sausage pizza \n",
      "\n",
      "We don't have a sausage pizza as a standard option, but I can add sausage as a topping to any pizza. Which pizza would you like to start with, and what size would you like? Here are the options:\n",
      "\n",
      "- Pepperoni Pizza: $12.95 (large), $10.00 (medium), $7.00 (small)\n",
      "- Cheese Pizza: $10.95 (large), $9.25 (medium), $6.50 (small)\n",
      "- Eggplant Pizza: $11.95 (large), $9.75 (medium), $6.75 (small)\n",
      "\n",
      "Let me know your choice and we can add sausage for an additional $3.00!\n",
      "\n",
      "\n",
      "Prompt: I'll just get something to drink \n",
      "\n",
      "Sure! Here are the drink options:\n",
      "\n",
      "- Coke: $3.00 (large), $2.00 (medium), $1.00 (small)\n",
      "- Sprite: $3.00 (large), $2.00 (medium), $1.00 (small)\n",
      "- Bottled Water: $5.00\n",
      "\n",
      "Which drink and what size would you like?\n",
      "\n",
      "\n",
      "Prompt: I'll get a large Coke \n",
      "\n",
      "Great choice! A large Coke will be $3.00. Would you like to add anything else to your order, or is that all for today?\n",
      "\n",
      "\n",
      "Prompt: that's all goodbye \n",
      "\n"
     ]
    }
   ],
   "source": [
    "while True:\n",
    "    guess = audio.recognize_speech_from_mic()\n",
    "    if guess[\"success\"]:\n",
    "        prompt = guess['transcription']\n",
    "        print(f'Prompt: {prompt} \\n')\n",
    "\n",
    "        if 'goodbye' in prompt:\n",
    "            audio.communicate('See you next time')\n",
    "            break\n",
    "        \n",
    "        response = chatbot.respond(prompt)\n",
    "        print(f'{response}\\n\\n')\n",
    "        audio.communicate(response)\n",
    "    else:\n",
    "        audio.communicate(guess[\"error\"])\n",
    "        "
   ]
  }
 ],
 "metadata": {
  "kernelspec": {
   "display_name": "ik",
   "language": "python",
   "name": "python3"
  },
  "language_info": {
   "codemirror_mode": {
    "name": "ipython",
    "version": 3
   },
   "file_extension": ".py",
   "mimetype": "text/x-python",
   "name": "python",
   "nbconvert_exporter": "python",
   "pygments_lexer": "ipython3",
   "version": "3.12.4"
  }
 },
 "nbformat": 4,
 "nbformat_minor": 2
}
