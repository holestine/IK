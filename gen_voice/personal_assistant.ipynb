{
 "cells": [
  {
   "cell_type": "markdown",
   "metadata": {},
   "source": [
    "# Prepare Development Environment\n",
    "\n",
    "This will create the virtual environment"
   ]
  },
  {
   "cell_type": "code",
   "execution_count": null,
   "metadata": {},
   "outputs": [],
   "source": [
    "!conda create -c pytorch -c nvidia -n gen_voice pytorch torchvision torchaudio pytorch-cuda=11.8 -y\n",
    "!conda activate gen_voice\n",
    "!conda install conda-forge::ffmpeg\n",
    "!pip install -r requirements.txt\n",
    "!playwright install"
   ]
  },
  {
   "cell_type": "markdown",
   "metadata": {},
   "source": [
    "If ffmpeg doesn't work correctly on Linux the following command may help"
   ]
  },
  {
   "cell_type": "code",
   "execution_count": null,
   "metadata": {},
   "outputs": [],
   "source": [
    "!apt install libasound2-dev portaudio19-dev libportaudio2 libportaudiocpp0 ffmpeg"
   ]
  },
  {
   "cell_type": "markdown",
   "metadata": {},
   "source": [
    "# Import Libraries"
   ]
  },
  {
   "cell_type": "code",
   "execution_count": 1,
   "metadata": {},
   "outputs": [
    {
     "name": "stderr",
     "output_type": "stream",
     "text": [
      "c:\\Users\\holes\\.conda\\envs\\ik\\Lib\\site-packages\\tqdm\\auto.py:21: TqdmWarning: IProgress not found. Please update jupyter and ipywidgets. See https://ipywidgets.readthedocs.io/en/stable/user_install.html\n",
      "  from .autonotebook import tqdm as notebook_tqdm\n"
     ]
    }
   ],
   "source": [
    "from financial_chatbot import ChatBot\n",
    "import speech_recognition as sr\n",
    "import gradio as gr\n",
    "\n",
    "%load_ext gradio"
   ]
  },
  {
   "cell_type": "markdown",
   "metadata": {},
   "source": [
    "# Pull Data for LLM Context"
   ]
  },
  {
   "cell_type": "code",
   "execution_count": 12,
   "metadata": {},
   "outputs": [],
   "source": [
    "!python extract_web_data.py"
   ]
  },
  {
   "cell_type": "markdown",
   "metadata": {},
   "source": [
    "# Check for Microphones"
   ]
  },
  {
   "cell_type": "code",
   "execution_count": null,
   "metadata": {},
   "outputs": [],
   "source": [
    "# List the available microphones\n",
    "sr.Microphone.list_microphone_names()"
   ]
  },
  {
   "cell_type": "markdown",
   "metadata": {},
   "source": [
    "## Full Audio\n",
    "If you're system has speakers and a microphone you can run in full audio using the communication loop below"
   ]
  },
  {
   "cell_type": "code",
   "execution_count": 10,
   "metadata": {},
   "outputs": [
    {
     "name": "stdout",
     "output_type": "stream",
     "text": [
      "Prompt: what are key indicators \n",
      "\n",
      "Key indicators in financial markets typically include:\n",
      "\n",
      "1. **Interest Rates**: Set by central banks, interest rates influence borrowing costs and economic activity. Higher rates can slow economic growth, while lower rates can stimulate it.\n",
      "\n",
      "2. **Inflation Rates**: Measures the rate at which the general level of prices for goods and services is rising. Central banks monitor inflation to decide on monetary policy.\n",
      "\n",
      "3. **Gross Domestic Product (GDP)**: Represents the total dollar value of all goods and services produced over a specific time period. It is used to gauge the health of a country's economy.\n",
      "\n",
      "4. **Unemployment Rate**: Indicates the percentage of the total labor force that is unemployed and actively seeking employment. It is a key indicator of economic health.\n",
      "\n",
      "5. **Consumer Price Index (CPI)**: Measures the average change over time in the prices paid by urban consumers for a market basket of consumer goods and services.\n",
      "\n",
      "6. **Producer Price Index (PPI)**: Measures the average change over time in the selling prices received by domestic producers for their output. It's a signal of future consumer inflation.\n",
      "\n",
      "7. **Stock Market Indices**: Such as the S&P 500, Dow Jones Industrial Average, and NASDAQ, which reflect the performance of large segments of the economy.\n",
      "\n",
      "8. **Housing Market Indicators**: Including home sales, building permits, and housing starts, which provide insights into the health of the real estate market and consumer confidence.\n",
      "\n",
      "9. **Manufacturing Indices**: Like the Purchasing Managers' Index (PMI), which indicates the economic health of the manufacturing sector.\n",
      "\n",
      "10. **Retail Sales**: Measures the total receipts at stores that sell durable and nondurable goods. It's a direct gauge of consumer spending and confidence.\n",
      "\n",
      "These indicators are used by investors, policymakers, and economists to assess current economic conditions and predict future economic trends.\n",
      "\n",
      "\n",
      "Prompt: tell me more about number 7 \n",
      "\n",
      "Stock market indices are key indicators used to gauge the overall performance and health of the equity markets. They are composed of a selection of stocks that represent a particular market or a sector of the economy. Here are some details about major stock market indices:\n",
      "\n",
      "1. **S&P 500 (Standard & Poor’s 500)**: This index includes 500 of the largest companies listed on stock exchanges in the United States. It is widely regarded as the best single gauge of large-cap U.S. equities. The index is market-cap weighted, meaning that companies with higher market capitalizations have a greater impact on the index's movements.\n",
      "\n",
      "2. **Dow Jones Industrial Average (DJIA)**: One of the oldest and most well-known stock market indices, the DJIA includes 30 prominent companies from the U.S. The index is price-weighted, which means companies with higher stock prices have more influence on the index's performance, regardless of their actual market capitalizations.\n",
      "\n",
      "3. **NASDAQ Composite**: This index includes more than 3,000 stocks of companies that trade on the NASDAQ stock exchange, which is known for its high concentration of technology stocks. Unlike the DJIA, the NASDAQ Composite is market-cap weighted.\n",
      "\n",
      "4. **FTSE 100 (Financial Times Stock Exchange 100)**: This index represents 100 of the largest publicly owned companies listed on the London Stock Exchange with the highest market capitalization.\n",
      "\n",
      "5. **Nikkei 225**: Japan’s premier stock index, the Nikkei consists of 225 top-rated companies listed on the Tokyo Stock Exchange. It is price-weighted.\n",
      "\n",
      "6. **DAX (Deutscher Aktienindex)**: This is a blue chip stock market index consisting of the 30 major German companies trading on the Frankfurt Stock Exchange.\n",
      "\n",
      "7. **Shanghai Composite Index (SCI)**: This index tracks all the stocks that trade on the Shanghai Stock Exchange, making it a broad indicator of the performance of China's stock market.\n",
      "\n",
      "Stock market indices are used by investors to track market trends, compare the performance of their own portfolios, and as benchmarks for passive investment strategies like index funds and exchange-traded funds (ETFs). They provide a snapshot of market sentiment and economic health, influencing investment and financial decisions globally.\n",
      "\n",
      "\n",
      "Prompt: goodbye \n",
      "\n"
     ]
    }
   ],
   "source": [
    "# Initialize the chatbot specifying the index of the mic if one exists and whether or not speakers will be used.\n",
    "# For best results a headset with a mic is recommended.\n",
    "chatbot = ChatBot(mic_id=2, enable_speakers=False)\n",
    "\n",
    "history = []\n",
    "while True:\n",
    "    guess = chatbot.recognize_speech_from_mic()\n",
    "    if guess[\"success\"]:\n",
    "        prompt = guess['transcription']\n",
    "        print(f'Prompt: {prompt} \\n')\n",
    "\n",
    "        if 'goodbye' in prompt:\n",
    "            chatbot.communicate('See you next time')\n",
    "            break\n",
    "        \n",
    "        response = chatbot.respond(prompt, history)\n",
    "        history.append([guess['transcription'], response])\n",
    "        print(f'{response}\\n\\n')\n",
    "    else:\n",
    "        chatbot.communicate(f\"Error: {guess[\"error\"]}\")"
   ]
  },
  {
   "cell_type": "markdown",
   "metadata": {},
   "source": [
    "## Speakers Optional (no mic)\n",
    "The following gradio UI will allow you to communicate with the LLM."
   ]
  },
  {
   "cell_type": "code",
   "execution_count": 3,
   "metadata": {},
   "outputs": [
    {
     "data": {
      "text/html": [
       "<div><iframe src=\"http://127.0.0.1:7860/\" width=\"100%\" height=\"500\" allow=\"autoplay; camera; microphone; clipboard-read; clipboard-write;\" frameborder=\"0\" allowfullscreen></iframe></div>"
      ],
      "text/plain": [
       "<IPython.core.display.HTML object>"
      ]
     },
     "execution_count": 3,
     "metadata": {},
     "output_type": "execute_result"
    }
   ],
   "source": [
    "%%blocks\n",
    "\n",
    "# Create a gradio chat interface wire it to our chatbot\n",
    "chatbot = ChatBot(enable_speakers=True, threaded=True)\n",
    "with gr.Blocks() as demo:\n",
    "    gr.ChatInterface(chatbot.respond)"
   ]
  }
 ],
 "metadata": {
  "kernelspec": {
   "display_name": "ik",
   "language": "python",
   "name": "python3"
  },
  "language_info": {
   "codemirror_mode": {
    "name": "ipython",
    "version": 3
   },
   "file_extension": ".py",
   "mimetype": "text/x-python",
   "name": "python",
   "nbconvert_exporter": "python",
   "pygments_lexer": "ipython3",
   "version": "3.12.5"
  }
 },
 "nbformat": 4,
 "nbformat_minor": 2
}
