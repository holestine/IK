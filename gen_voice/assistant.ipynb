{
 "cells": [
  {
   "cell_type": "markdown",
   "metadata": {},
   "source": [
    "## Prepare Development Environment\n",
    "\n",
    "1. Install [Python](https://www.python.org/downloads/) (3.12 was used in testing) \n",
    "\n",
    "2. Install [FFMPEG](https://www.ffmpeg.org/download.html) \n",
    "\n",
    "    Windows\n",
    "\n",
    "    ``` text\n",
    "        To simplify setup ffmpeg.exe and ffprode.exe have been included in this repo.\n",
    "    ```\n",
    "\n",
    "    Mac or Linux\n",
    "\n",
    "    ``` bash\n",
    "        apt install libasound2-dev portaudio19-dev libportaudio2 libportaudiocpp0 ffmpeg\n",
    "    ```\n",
    "\n",
    "3. Create a Virtual Environment using a Linux shell or **git bash** in Windows\n",
    "\n",
    "    Windows\n",
    "\n",
    "    ``` bash\n",
    "        pip install virtualenv\n",
    "        python -m venv ./.venv\n",
    "        source ./.venv/Scripts/activate\n",
    "        pip install -r requirements.txt\n",
    "    ```\n",
    "\n",
    "    Mac or Linux\n",
    "\n",
    "    ``` bash\n",
    "        pip install virtualenv\n",
    "        python -m venv ./.venv\n",
    "        source ./.venv/bin/activate\n",
    "        pip install -r requirements.txt\n",
    "    ```\n",
    "\n",
    "    Test Environment\n",
    "    \n",
    "    ``` text\n",
    "        Run the command below to make sure the virtual environment is activated.\n",
    "    ```\n",
    "    ``` bash\n",
    "        which python\n",
    "    ```\n",
    "\n",
    "    Create an OpenAI Account and Obtain a Key\n",
    "    \n",
    "    1. Follow the instructions [here](https://platform.openai.com/docs/quickstart) to create your key.\n",
    "    2. Create the file [key.py](./key.py) and add the following text using your key as indicated.\n",
    "    ``` python\n",
    "        openai_key = 'put_your_key_here'\n",
    "    ```"
   ]
  },
  {
   "cell_type": "markdown",
   "metadata": {},
   "source": [
    "## Launch Notebook\n",
    "\n",
    "Run the command below from the virtual environment to launch this notebook in a browser then continue executing the cells below.\n",
    "\n",
    "``` bash\n",
    "jupyter notebook assistant.ipynb\n",
    "```"
   ]
  },
  {
   "cell_type": "markdown",
   "metadata": {},
   "source": [
    "# Import Libraries\n",
    "Most of the complexity for the chatbot is in [customizable_chatbot.py](./customizable_chatbot.py) that uses [audio.py](./audio.py) internally for the audio capabilities."
   ]
  },
  {
   "cell_type": "code",
   "execution_count": 1,
   "metadata": {},
   "outputs": [],
   "source": [
    "from customizable_chatbot import ChatBot\n",
    "import gradio as gr"
   ]
  },
  {
   "cell_type": "markdown",
   "metadata": {},
   "source": [
    "# Create Data for LLM Context\n",
    "Running this sciprt will generate a file that contains the data for the LLM. Modify the links in [extract_web_data.py](./extract_web_data.py) to customize this."
   ]
  },
  {
   "cell_type": "code",
   "execution_count": 1,
   "metadata": {},
   "outputs": [],
   "source": [
    "!python extract_web_data.py"
   ]
  },
  {
   "cell_type": "markdown",
   "metadata": {},
   "source": [
    "## Gradio Interface\n",
    "This launches the UI, you will probably need to allow the browser to use the microphone to enable the audio functions."
   ]
  },
  {
   "cell_type": "code",
   "execution_count": null,
   "metadata": {},
   "outputs": [],
   "source": [
    "chatbot = ChatBot(enable_speakers=True, threaded=True)\n",
    "\n",
    "def get_response(audio):\n",
    "    prompt = chatbot.get_prompt_from_gradio_audio(audio)\n",
    "    response = chatbot.respond(prompt)\n",
    "    return response\n",
    "\n",
    "demo = gr.Interface(\n",
    "        get_response,\n",
    "        gr.Audio(sources=\"microphone\"),\n",
    "        \"text\",\n",
    "    )\n",
    "\n",
    "demo.launch()"
   ]
  }
 ],
 "metadata": {
  "kernelspec": {
   "display_name": "Python 3 (ipykernel)",
   "language": "python",
   "name": "python3"
  },
  "language_info": {
   "codemirror_mode": {
    "name": "ipython",
    "version": 3
   },
   "file_extension": ".py",
   "mimetype": "text/x-python",
   "name": "python",
   "nbconvert_exporter": "python",
   "pygments_lexer": "ipython3",
   "version": "3.12.6"
  }
 },
 "nbformat": 4,
 "nbformat_minor": 4
}
