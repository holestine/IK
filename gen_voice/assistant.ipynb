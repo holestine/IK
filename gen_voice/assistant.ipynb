{
 "cells": [
  {
   "cell_type": "markdown",
   "metadata": {},
   "source": [
    "# Import Libraries\n",
    "Most of the complexity for the chatbot is in [customizable_chatbot.py](./customizable_chatbot.py) that uses [audio.py](./audio.py) internally for the audio capabilities."
   ]
  },
  {
   "cell_type": "code",
   "execution_count": 1,
   "metadata": {},
   "outputs": [],
   "source": [
    "from customizable_chatbot import ChatBot\n",
    "import gradio as gr"
   ]
  },
  {
   "cell_type": "markdown",
   "metadata": {},
   "source": [
    "# Create Data for LLM Context\n",
    "Running this sciprt will generate a file that contains the data for the LLM. Modify the links in [extract_web_data.py](./extract_web_data.py) to customize this."
   ]
  },
  {
   "cell_type": "code",
   "execution_count": 1,
   "metadata": {},
   "outputs": [],
   "source": [
    "!python extract_web_data.py"
   ]
  },
  {
   "cell_type": "markdown",
   "metadata": {},
   "source": [
    "## Gradio Interface\n",
    "This launches the UI, you will probably need to allow the browser to use the microphone to enable the audio functions."
   ]
  },
  {
   "cell_type": "code",
   "execution_count": null,
   "metadata": {},
   "outputs": [],
   "source": [
    "chatbot = ChatBot(enable_speakers=True, threaded=True)\n",
    "history = [] \n",
    "\n",
    "def get_response_from_audio(audio):\n",
    "    prompt = chatbot.get_prompt_from_gradio_audio(audio)\n",
    "    response = chatbot.respond(prompt, history)\n",
    "    history.append([prompt, response])\n",
    "    return response\n",
    "\n",
    "demo = gr.Interface(\n",
    "        get_response_from_audio,\n",
    "        gr.Audio(sources=\"microphone\"),\n",
    "        \"text\",\n",
    "    )\n",
    "\n",
    "demo.launch()"
   ]
  },
  {
   "cell_type": "code",
   "execution_count": null,
   "metadata": {},
   "outputs": [],
   "source": [
    "chatbot = ChatBot(enable_speakers=True, threaded=True)\n",
    "history = [] \n",
    "\n",
    "def get_response_from_file(file):\n",
    "    prompt = chatbot.get_prompt_from_file(file)\n",
    "    response = chatbot.respond(prompt, history)\n",
    "    history.append([prompt, response])\n",
    "    return response\n",
    "\n",
    "# Approach that doesn't have the warning but uses temp files\n",
    "demo = gr.Interface(\n",
    "        get_response_from_file,\n",
    "        gr.Audio(sources=\"microphone\", type=\"filepath\"),\n",
    "        \"text\",\n",
    "    )\n",
    "\n",
    "demo.launch()"
   ]
  }
 ],
 "metadata": {
  "kernelspec": {
   "display_name": "Python 3 (ipykernel)",
   "language": "python",
   "name": "python3"
  },
  "language_info": {
   "codemirror_mode": {
    "name": "ipython",
    "version": 3
   },
   "file_extension": ".py",
   "mimetype": "text/x-python",
   "name": "python",
   "nbconvert_exporter": "python",
   "pygments_lexer": "ipython3",
   "version": "3.12.6"
  }
 },
 "nbformat": 4,
 "nbformat_minor": 4
}
