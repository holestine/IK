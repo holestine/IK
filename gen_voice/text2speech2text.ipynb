{
 "cells": [
  {
   "cell_type": "code",
   "execution_count": 1,
   "metadata": {},
   "outputs": [],
   "source": [
    "# Standard Imports\n",
    "import time\n",
    "\n",
    "# Utility for collecting execution times\n",
    "from timer import Timer\n",
    "\n",
    "# Audio libraries\n",
    "from openai import OpenAI\n",
    "import speech_recognition as sr\n",
    "import librosa\n",
    "import soundfile as sf\n",
    "\n",
    "# Personal access tokens\n",
    "from key import openai_key, wit_key"
   ]
  },
  {
   "cell_type": "code",
   "execution_count": 2,
   "metadata": {},
   "outputs": [
    {
     "ename": "KeyboardInterrupt",
     "evalue": "",
     "output_type": "error",
     "traceback": [
      "\u001b[0;31m---------------------------------------------------------------------------\u001b[0m",
      "\u001b[0;31mKeyboardInterrupt\u001b[0m                         Traceback (most recent call last)",
      "Cell \u001b[0;32mIn[2], line 32\u001b[0m\n\u001b[1;32m     27\u001b[0m         \u001b[38;5;66;03m# The following method is depricated and gives a warning but still seems to work fine.\u001b[39;00m\n\u001b[1;32m     28\u001b[0m         \u001b[38;5;66;03m#response.stream_to_file(voice_path)\u001b[39;00m\n\u001b[1;32m     29\u001b[0m         \u001b[38;5;66;03m# This does the same thing without the warning\u001b[39;00m\n\u001b[1;32m     30\u001b[0m         response\u001b[38;5;241m.\u001b[39mwrite_to_file(voice_paths[\u001b[38;5;241m-\u001b[39m\u001b[38;5;241m1\u001b[39m])\n\u001b[0;32m---> 32\u001b[0m         \u001b[43mtime\u001b[49m\u001b[38;5;241;43m.\u001b[39;49m\u001b[43msleep\u001b[49m\u001b[43m(\u001b[49m\u001b[38;5;241;43m60\u001b[39;49m\u001b[43m)\u001b[49m \u001b[38;5;66;03m# Sleep so we don't hit the OpenAI RPM while gathering metrics\u001b[39;00m\n\u001b[1;32m     34\u001b[0m \u001b[38;5;66;03m# Print execution times\u001b[39;00m\n\u001b[1;32m     35\u001b[0m Timer()\u001b[38;5;241m.\u001b[39mreport()\n",
      "\u001b[0;31mKeyboardInterrupt\u001b[0m: "
     ]
    }
   ],
   "source": [
    "# Create an OpenAI client\n",
    "client = OpenAI(\n",
    "    api_key=openai_key,\n",
    ")\n",
    "\n",
    "# The different voices supported by OpenAI\n",
    "voices = ['alloy', 'echo', 'fable', 'onyx', 'nova', 'shimmer']\n",
    "phrases = [\"Suzy sells sea shells by the sea shore\", \n",
    "           \"Peter Piper picked a peck of pickled peppers\",\n",
    "           \"The longest word in the English language that doesn't repeat a character is uncopyrightable\"]\n",
    "voice_paths = []\n",
    "\n",
    "# Generate a wav file for each voice and keep track of execution times\n",
    "for voice in voices:\n",
    "    i = 1\n",
    "    for phrase in phrases:\n",
    "        voice_paths.append(f'./waves/{voice}{i}_speech.wav')\n",
    "        i += 1\n",
    "\n",
    "        with Timer(voice):\n",
    "            response = client.audio.speech.create(\n",
    "                model=\"tts-1\",\n",
    "                voice=voice,\n",
    "                input=phrase\n",
    "            )\n",
    "\n",
    "        # The following method is depricated and gives a warning but still seems to work fine.\n",
    "        #response.stream_to_file(voice_path)\n",
    "        # This does the same thing without the warning\n",
    "        response.write_to_file(voice_paths[-1])\n",
    "\n",
    "    time.sleep(60) # Sleep so we don't hit the OpenAI RPM while gathering metrics\n",
    "\n",
    "# Print execution times\n",
    "Timer().report()\n",
    "Timer().reset()"
   ]
  },
  {
   "cell_type": "code",
   "execution_count": null,
   "metadata": {},
   "outputs": [],
   "source": [
    "def wav2text(voice_path, service):\n",
    "    '''\n",
    "    Method to convert speech to text\n",
    "    '''\n",
    "    \n",
    "    # Sometimes audio files don't have the necessary headers, this will add them\n",
    "    x,_ = librosa.load(voice_path, sr=16000)\n",
    "    sf.write(voice_path, x, 16000)\n",
    "\n",
    "    r = sr.Recognizer()\n",
    "    with sr.AudioFile(voice_path) as source:\n",
    "        audio = r.record(source)  # read the entire audio file\n",
    "\n",
    "    with Timer(service):\n",
    "        if service == 'Sphinx':\n",
    "            text = r.recognize_sphinx(audio)\n",
    "        elif service =='GoogleSpeech':\n",
    "            text = r.recognize_google(audio)\n",
    "        elif service =='GoogleCloudSpeech':\n",
    "            # You will need a Google Cloud account, enable the Cloud Speech-to-Text API\n",
    "            # and create a credentials file to use this service. Get started by following\n",
    "            # these instructions https://cloud.google.com/iam/docs/keys-create-delete#python\n",
    "            text = r.recognize_google_cloud(audio, 'google_cloud_credentials.json')\n",
    "        elif service =='Wit':\n",
    "            # You will need to create an account at https://wit.ai/ and generate \n",
    "            # a 'Client Access Token' for the key argument below.\n",
    "            text = r.recognize_wit(audio, key=wit_key)\n",
    "            \n",
    "    try:\n",
    "        print(f\"{service} thinks you said: \\\"{text}\\\"\")\n",
    "    except sr.UnknownValueError:\n",
    "        print(f\"{service} could not understand audio\")\n",
    "    except sr.RequestError as e:\n",
    "        print(f\"{service} error; {0}\".format(e))"
   ]
  },
  {
   "cell_type": "code",
   "execution_count": null,
   "metadata": {},
   "outputs": [],
   "source": [
    "# Convert all the voices back to text\n",
    "for voice_path in voice_paths:\n",
    "    \n",
    "    print(f'Converting file: {voice_path}')\n",
    "    wav2text(voice_path, 'Sphinx')\n",
    "    wav2text(voice_path, 'GoogleSpeech')\n",
    "    wav2text(voice_path, 'GoogleCloudSpeech')\n",
    "    wav2text(voice_path, 'Wit')\n",
    "    print('')\n",
    "\n",
    "# Print execution times\n",
    "Timer().report()\n",
    "Timer().reset()"
   ]
  }
 ],
 "metadata": {
  "kernelspec": {
   "display_name": "ik",
   "language": "python",
   "name": "python3"
  },
  "language_info": {
   "codemirror_mode": {
    "name": "ipython",
    "version": 3
   },
   "file_extension": ".py",
   "mimetype": "text/x-python",
   "name": "python",
   "nbconvert_exporter": "python",
   "pygments_lexer": "ipython3",
   "version": "3.12.2"
  }
 },
 "nbformat": 4,
 "nbformat_minor": 2
}
